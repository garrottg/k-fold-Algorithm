{
 "cells": [
  {
   "cell_type": "markdown",
   "id": "636060a4",
   "metadata": {},
   "source": [
    "## Machine Learning: k-fold"
   ]
  },
  {
   "cell_type": "code",
   "execution_count": 1,
   "id": "ad5901ee",
   "metadata": {},
   "outputs": [],
   "source": [
    "import numpy as np\n",
    "import pandas as pd\n",
    "import matplotlib.pyplot as plt\n",
    "from sklearn.preprocessing import PolynomialFeatures\n",
    "from sklearn.linear_model import LinearRegression\n",
    "from sklearn.pipeline import Pipeline"
   ]
  },
  {
   "cell_type": "code",
   "execution_count": 2,
   "id": "17394a16",
   "metadata": {},
   "outputs": [
    {
     "data": {
      "text/html": [
       "<div>\n",
       "<style scoped>\n",
       "    .dataframe tbody tr th:only-of-type {\n",
       "        vertical-align: middle;\n",
       "    }\n",
       "\n",
       "    .dataframe tbody tr th {\n",
       "        vertical-align: top;\n",
       "    }\n",
       "\n",
       "    .dataframe thead th {\n",
       "        text-align: right;\n",
       "    }\n",
       "</style>\n",
       "<table border=\"1\" class=\"dataframe\">\n",
       "  <thead>\n",
       "    <tr style=\"text-align: right;\">\n",
       "      <th></th>\n",
       "      <th>x</th>\n",
       "      <th>y</th>\n",
       "    </tr>\n",
       "  </thead>\n",
       "  <tbody>\n",
       "    <tr>\n",
       "      <th>0</th>\n",
       "      <td>6.661643</td>\n",
       "      <td>0.055225</td>\n",
       "    </tr>\n",
       "    <tr>\n",
       "      <th>1</th>\n",
       "      <td>9.230200</td>\n",
       "      <td>0.176037</td>\n",
       "    </tr>\n",
       "    <tr>\n",
       "      <th>2</th>\n",
       "      <td>4.061539</td>\n",
       "      <td>-0.321477</td>\n",
       "    </tr>\n",
       "    <tr>\n",
       "      <th>3</th>\n",
       "      <td>7.119590</td>\n",
       "      <td>0.046396</td>\n",
       "    </tr>\n",
       "    <tr>\n",
       "      <th>4</th>\n",
       "      <td>-0.110675</td>\n",
       "      <td>-0.055871</td>\n",
       "    </tr>\n",
       "  </tbody>\n",
       "</table>\n",
       "</div>"
      ],
      "text/plain": [
       "          x         y\n",
       "0  6.661643  0.055225\n",
       "1  9.230200  0.176037\n",
       "2  4.061539 -0.321477\n",
       "3  7.119590  0.046396\n",
       "4 -0.110675 -0.055871"
      ]
     },
     "execution_count": 2,
     "metadata": {},
     "output_type": "execute_result"
    }
   ],
   "source": [
    "CV_data = pd.read_csv(\"CV.txt\", sep = \"\\t\")\n",
    "CV_data.drop(columns = \"obs\", inplace = True)\n",
    "CV_data.rename({\"y2\":\"y\"}, axis = 1, inplace = True)\n",
    "CV_data.head()"
   ]
  },
  {
   "cell_type": "code",
   "execution_count": 3,
   "id": "02d0e828",
   "metadata": {},
   "outputs": [
    {
     "data": {
      "text/html": [
       "<div>\n",
       "<style scoped>\n",
       "    .dataframe tbody tr th:only-of-type {\n",
       "        vertical-align: middle;\n",
       "    }\n",
       "\n",
       "    .dataframe tbody tr th {\n",
       "        vertical-align: top;\n",
       "    }\n",
       "\n",
       "    .dataframe thead th {\n",
       "        text-align: right;\n",
       "    }\n",
       "</style>\n",
       "<table border=\"1\" class=\"dataframe\">\n",
       "  <thead>\n",
       "    <tr style=\"text-align: right;\">\n",
       "      <th></th>\n",
       "      <th>index</th>\n",
       "      <th>x</th>\n",
       "      <th>y</th>\n",
       "    </tr>\n",
       "  </thead>\n",
       "  <tbody>\n",
       "    <tr>\n",
       "      <th>0</th>\n",
       "      <td>26</td>\n",
       "      <td>1.834227</td>\n",
       "      <td>0.267859</td>\n",
       "    </tr>\n",
       "    <tr>\n",
       "      <th>1</th>\n",
       "      <td>9</td>\n",
       "      <td>-0.958735</td>\n",
       "      <td>-0.034002</td>\n",
       "    </tr>\n",
       "    <tr>\n",
       "      <th>2</th>\n",
       "      <td>417</td>\n",
       "      <td>11.747951</td>\n",
       "      <td>-0.217401</td>\n",
       "    </tr>\n",
       "    <tr>\n",
       "      <th>3</th>\n",
       "      <td>107</td>\n",
       "      <td>5.803923</td>\n",
       "      <td>-0.089723</td>\n",
       "    </tr>\n",
       "    <tr>\n",
       "      <th>4</th>\n",
       "      <td>184</td>\n",
       "      <td>4.904286</td>\n",
       "      <td>-0.165341</td>\n",
       "    </tr>\n",
       "  </tbody>\n",
       "</table>\n",
       "</div>"
      ],
      "text/plain": [
       "   index          x         y\n",
       "0     26   1.834227  0.267859\n",
       "1      9  -0.958735 -0.034002\n",
       "2    417  11.747951 -0.217401\n",
       "3    107   5.803923 -0.089723\n",
       "4    184   4.904286 -0.165341"
      ]
     },
     "execution_count": 3,
     "metadata": {},
     "output_type": "execute_result"
    }
   ],
   "source": [
    "CV_data = CV_data.sample(frac = 1).reset_index()\n",
    "CV_data.head()"
   ]
  },
  {
   "cell_type": "code",
   "execution_count": 4,
   "id": "435d8d46",
   "metadata": {},
   "outputs": [],
   "source": [
    "degree = [i for i in range(1,10)]\n",
    "#Create k-fold validation\n",
    "#make a function so we can use several k values\n",
    "def kfold(k, data = CV_data):\n",
    "    CV = []\n",
    "    fold_length = int(len(data)/k)\n",
    "    for i in degree:\n",
    "        MSE = []\n",
    "        for j in range(0,k):\n",
    "            \n",
    "            #valid set\n",
    "            x_valid = data[\"x\"].iloc[j*fold_length:(j+1)*fold_length].values\n",
    "            y_valid = data[\"y\"].iloc[j*fold_length:(j+1)*fold_length].values\n",
    "            \n",
    "            #drop training set from original dataframe\n",
    "            \n",
    "            data_train = data.drop(axis = 0, index = [j*fold_length,\n",
    "                                                      ((j+1)*fold_length)-1])\n",
    "            \n",
    "            #create training set\n",
    "            \n",
    "            x_train = data_train[\"x\"].values\n",
    "            y_train = data_train[\"y\"].values\n",
    "            \n",
    "            #create polynomial regression models\n",
    "            \n",
    "            pipe = Pipeline(steps = [(\"poly_reg\", PolynomialFeatures(degree = i)), \n",
    "                                     (\"lm\", LinearRegression())])\n",
    "            pipe.fit(x_train.reshape(-1,1), y_train.reshape(-1,1))\n",
    "            \n",
    "            #make Predictions and find MSE value for each prediction\n",
    "            y_pred = pipe.predict(x_valid.reshape(-1,1)).flatten()\n",
    "            y_diff_sq = (y_valid - y_pred)**2\n",
    "            MSE_value = (1/fold_length)*np.sum(y_diff_sq)\n",
    "            MSE.append(MSE_value)\n",
    "            \n",
    "            #make data train the original data set again\n",
    "            data_train = data\n",
    "            \n",
    "        CV_value = (1/k)*np.sum(MSE)\n",
    "        CV.append(CV_value)    \n",
    "    return CV"
   ]
  },
  {
   "cell_type": "code",
   "execution_count": 18,
   "id": "847b217b",
   "metadata": {},
   "outputs": [
    {
     "data": {
      "image/png": "[encoded data removed]",
      "text/plain": [
       "<Figure size 432x288 with 1 Axes>"
      ]
     },
     "metadata": {
      "needs_background": "light"
     },
     "output_type": "display_data"
    }
   ],
   "source": [
    "CVs = []\n",
    "k_vals = [5,10,50,100,250,500]\n",
    "for i in range(0,len(k_vals)):\n",
    "    CVs.append(kfold(k_vals[i]))\n",
    "    plt.plot(degree, CVs[i], marker = \"o\", label = \"k = \" + str(k_vals[i]))\n",
    "plt.legend()\n",
    "plt.xlabel(\"Degree\")\n",
    "plt.ylabel(\"Mean Squared Error\")\n",
    "plt.title(\"k-fold CV\")\n",
    "plt.savefig(\"k-fold.jpg\", bbox_inches = \"tight\")\n",
    "plt.show()"
   ]
  },
  {
   "cell_type": "code",
   "execution_count": 22,
   "id": "30681c17",
   "metadata": {},
   "outputs": [
    {
     "data": {
      "image/png": "[encoded data removed]",
      "text/plain": [
       "<Figure size 432x288 with 1 Axes>"
      ]
     },
     "metadata": {
      "needs_background": "light"
     },
     "output_type": "display_data"
    }
   ],
   "source": [
    "k10 = kfold(10)\n",
    "plt.plot(degree, k10, marker = \"o\")\n",
    "plt.xlabel(\"Degree\")\n",
    "plt.ylabel(\"MSE\")\n",
    "plt.title(\"k-fold CV\")\n",
    "plt.savefig(\"k10.jpg\", bbox_inches = \"tight\")\n",
    "plt.show()"
   ]
  }
 ],
 "metadata": {
  "kernelspec": {
   "display_name": "Python 3 (ipykernel)",
   "language": "python",
   "name": "python3"
  },
  "language_info": {
   "codemirror_mode": {
    "name": "ipython",
    "version": 3
   },
   "file_extension": ".py",
   "mimetype": "text/x-python",
   "name": "python",
   "nbconvert_exporter": "python",
   "pygments_lexer": "ipython3",
   "version": "3.8.16"
  }
 },
 "nbformat": 4,
 "nbformat_minor": 5
}
